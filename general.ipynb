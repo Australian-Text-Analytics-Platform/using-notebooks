{
 "cells": [
  {
   "cell_type": "markdown",
   "id": "ab609b25",
   "metadata": {},
   "source": [
    "# Using Notebooks\n"
   ]
  },
  {
   "cell_type": "markdown",
   "id": "62658f35",
   "metadata": {},
   "source": [
    "## Running Jupyter Notebooks Locally\n",
    "\n",
    "If you want to run these notebooks on your computer, you'll need to install Anaconda by following the instructions here: https://www.anaconda.com/products/individual"
   ]
  },
  {
   "cell_type": "markdown",
   "id": "04a60f4d",
   "metadata": {},
   "source": [
    "## Getting a github account\n",
    "\n",
    "We would like ATAP users to adhere to *reproducible research* practices. We regard documenting your workflow as a notebook as step in the right direction. For this reason, we are publishing all our workflows and example projects as notebooks on github. \n",
    "To download the ATAP notebooks from github, you will first need a github account, and you can follow this instructions from this page to do so: https://reproducible-science-curriculum.github.io/sharing-RR-Jupyter/01-sharing-github/"
   ]
  },
  {
   "cell_type": "markdown",
   "id": "94cd00c9",
   "metadata": {},
   "source": [
    "<div class=\"alert alert-block alert-warning\">\n",
    "<b>The Symbol \"!\":</b> \n",
    "\n",
    "Whenever you see a line of code that starts with a \"!\" that means this is a command that would ordinarily be run in a Terminal.\n",
    "    \n",
    "You can choose to open a Terminal and run the commands there rather than in a notebook.\n",
    "</div>"
   ]
  },
  {
   "cell_type": "markdown",
   "id": "4720201e",
   "metadata": {},
   "source": [
    "## Opening a Terminal in a Notebook\n",
    "\n",
    "You can open a terminal by clicking on \"New\" to expand the menu item an then choosing \"Terminal\".\n",
    "\n",
    "<img src=\"https://github.com/Australian-Text-Analytics-Platform/using-notebooks/blob/main/img/terminal.png?raw=true\">"
   ]
  },
  {
   "cell_type": "markdown",
   "id": "065a7148",
   "metadata": {},
   "source": [
    "## The Command \"git clone\"\n",
    "\n",
    "You can clone a notebook by with the command \"git clone\". Cloning a notebook means you have a copy of the code that could can edit without changing the master copy (unless you want to).\n",
    "\n",
    "    git clone [url of the repository]\n",
    "\n",
    "You can get the url of the repository by expanding the dropdown under \"Code\" and clicking on the \"copy\" symbol. \n",
    "\n",
    "<img src=\"https://github.com/Australian-Text-Analytics-Platform/using-notebooks/blob/main/img/clone.png?raw=true\" width=\"750\" class=\"center\"/>\n",
    "\n",
    "If you wanted to clone the 'Farms to Freeways' repository you could run the following command in a notebook. You could also run this in a Terminal without the leading \"!\"\n",
    "\n",
    "    !git clone https://github.com/Australian-Text-Analytics-Platform/farms-to-freeways-metadata.git"
   ]
  },
  {
   "cell_type": "markdown",
   "id": "99316f6e",
   "metadata": {},
   "source": [
    "<div class=\"alert alert-block alert-danger\">\n",
    "<b>Running Commands in a Terminal vs Notebook:</b> \n",
    "\n",
    "Don't forget that when you run Terminal commands in a Jupyter notebook, you need a leading \"!\" symbol.\n",
    "However, you should not include this symbol if you are in a Terminal already.\n",
    "</div>"
   ]
  },
  {
   "cell_type": "markdown",
   "id": "a067dd8c",
   "metadata": {},
   "source": [
    "# Enabling conda Environments in Notebooks\n",
    "\n",
    "A conda environment is a Python virtual environment that allows you to install libraries/dependencies/packages so that they do not interfere with installations required by other Python projects.\n",
    "\n",
    "- You can learn more about conda environments here:[Introduction to conda](https://carpentries-incubator.github.io/introduction-to-conda-for-data-scientists/)\n",
    "- If you want to learn more about working with conda environments, you can do so here: [Working with conda](https://carpentries-incubator.github.io/introduction-to-conda-for-data-scientists/02-working-with-environments/index.html)\n",
    "\n",
    "Run the following commands, either in a notebook (such as this one) or in a Terminal (without the \"!\" symbols)."
   ]
  },
  {
   "cell_type": "code",
   "execution_count": null,
   "id": "ba68febb",
   "metadata": {},
   "outputs": [],
   "source": [
    "!conda create --name env -y\n",
    "!conda install -c anaconda ipykernel -y\n",
    "!python -m ipykernel install --user --name=env "
   ]
  },
  {
   "cell_type": "markdown",
   "id": "2d5ce8d2",
   "metadata": {},
   "source": [
    "The first line creates a conda environment called 'env'.\n",
    "The second line installs a package called 'ipykernal'.\n",
    "The third line makes the environment 'env' available to you when using Jupyter notebooks.\n",
    "\n",
    "Once these commands have been run, close/stop the notebook and then open it again. \n",
    "\n",
    "You can change the environment \n",
    "\n",
    "<img src=\"https://github.com/Australian-Text-Analytics-Platform/using-notebooks/blob/main/img/env.png?raw=true\"/>"
   ]
  }
 ],
 "metadata": {
  "kernelspec": {
   "display_name": "env",
   "language": "python",
   "name": "env"
  },
  "language_info": {
   "codemirror_mode": {
    "name": "ipython",
    "version": 3
   },
   "file_extension": ".py",
   "mimetype": "text/x-python",
   "name": "python",
   "nbconvert_exporter": "python",
   "pygments_lexer": "ipython3",
   "version": "3.8.8"
  }
 },
 "nbformat": 4,
 "nbformat_minor": 5
}
