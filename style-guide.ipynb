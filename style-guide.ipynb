{
 "cells": [
  {
   "cell_type": "markdown",
   "id": "b44c9426",
   "metadata": {},
   "source": [
    "# ATAP Notebook Style Guide\n",
    "\n"
   ]
  },
  {
   "cell_type": "markdown",
   "id": "f2333256",
   "metadata": {},
   "source": [
    "## General\n",
    "\n",
    "### Voice\n",
    "\n",
    "- The prose in the notebook are written in an informal didactic style using the second person pronoun.\n",
    "\n",
    "### Prose/Comments\n",
    "\n",
    "- Comments or prose outside of the code blocks should discuss the task at hand, and not the details of the code\n",
    "- Comments within the code blocks can refer to the code itself"
   ]
  },
  {
   "cell_type": "markdown",
   "id": "ad6ef6dc",
   "metadata": {},
   "source": [
    "## Additional Files\n",
    "\n",
    "In addition to the notebook itself, there should be at least 2 more files accompanying a Python notebook:\n",
    "\n",
    "\n",
    "<b>- requirements.txt or environment.yml</b>\n",
    "\n",
    "- This file should specify all the libraries that should be installed for the notebook to run. \n",
    "- The version for each library must be specified, for example:\n",
    "\n",
    "NOTES: Which version of Python? Should we assume that *all* notebooks should run with a particular version? Should we assume that only pip or conda should be used to install libraries?\n",
    "\n",
    "<img src=\"https://github.com/Australian-Text-Analytics-Platform/using-notebooks/blob/main/img/req.png?raw=true\" width=230/>\n",
    "\n",
    "\n",
    "<b>- metadata.yaml/metadata.yml</b>\n",
    "- This file provides information about the notebook, such as the skills, and the tools used to make it easier for users of ATAP to find each notebook according to their needs. \n",
    "- The file should be a yaml file, for example:\n",
    "\n",
    "<img src=\"img/meta.png\" width=420/>\n",
    "\n"
   ]
  },
  {
   "cell_type": "markdown",
   "id": "dfd71c01",
   "metadata": {},
   "source": [
    "## Signposting\n",
    "\n",
    "Use text blocks to convey certain kinds of information, as shown below.\n",
    "\n",
    "#### Green Boxes\n",
    "\n",
    "Use green boxes to signal what the notebook is teaching the user, for example:\n",
    "\n",
    "<div class=\"alert alert-block alert-success\">\n",
    "<b>Skills</b> \n",
    "    <ul>\n",
    "        <li>Word frequency counts</li>\n",
    "        <li>Text normalisation</li>\n",
    "    <ul>\n",
    "\n",
    "</div>\n",
    "\n",
    "\n",
    "#### Yellow Boxes\n",
    "        \n",
    "The yellow boxes are informational boxes, for example:\n",
    "        \n",
    "<div class=\"alert alert-block alert-warning\">\n",
    "<b>Installing Libraries</b> \n",
    "\n",
    "The requirements file <b>requirements.txt</b> is included with this notebook. Take a look inside to find out what libraries you have just installed with the above command.\n",
    "\n",
    "</div>\n",
    "\n",
    "#### Red Boxes\n",
    "        \n",
    "Red boxes are used for warnings. For example, it warns that if certain steps aren't taken then the notebook may not run, for example:\n",
    "        \n",
    "<div class=\"alert alert-block alert-danger\">\n",
    "<b>You Need an API Key to Run this Notebook</b> \n",
    "\n",
    "In general, you will need to apply for an api key to use an api. The format of the OpenAustralia api key is a string (eg 'RPLDbrHE9cPoEn2MIfQWfRcA') that you will need to paste below as the value for API_KEY.\n",
    "</div>\n",
    "        \n",
    "#### Blue Boxes\n",
    "        \n",
    "The blue boxes indicate what tools or libraries are being used in the notebook, for example:\n",
    "        \n",
    "<div class=\"alert alert-block alert-info\">\n",
    "<b>Tools:</b> \n",
    "    \n",
    "- spaCy\n",
    "    - for text cleaning and normalisation\n",
    "- matplotlib\n",
    "    - for rendering a bar chart\n",
    "</div>"
   ]
  },
  {
   "cell_type": "markdown",
   "id": "763ef762",
   "metadata": {},
   "source": [
    "## Coding Style\n",
    "\n",
    "- TBD\n",
    "\n",
    "#### Import\n",
    "\n",
    "- Prefer to import libraries at the top\n",
    "- Only import libraries when they are used (so it some libraries will be imported midway through the notebook)\n",
    "\n",
    "#### The Use of Functions\n",
    "\n",
    "- Minimal use of functions, where possible?\n",
    "\n",
    "#### Variables \n",
    "\n",
    "- Define constants at the beginning of the notebook, where possible\n",
    "- Define variables as they are used\n",
    "- When defining a new variable, explain what the variable is for"
   ]
  },
  {
   "cell_type": "code",
   "execution_count": null,
   "id": "6dddd342",
   "metadata": {},
   "outputs": [],
   "source": []
  }
 ],
 "metadata": {
  "kernelspec": {
   "display_name": "Python 3",
   "language": "python",
   "name": "python3"
  },
  "language_info": {
   "codemirror_mode": {
    "name": "ipython",
    "version": 3
   },
   "file_extension": ".py",
   "mimetype": "text/x-python",
   "name": "python",
   "nbconvert_exporter": "python",
   "pygments_lexer": "ipython3",
   "version": "3.8.8"
  }
 },
 "nbformat": 4,
 "nbformat_minor": 5
}
